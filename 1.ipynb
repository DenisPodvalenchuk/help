{
 "cells": [
  {
   "cell_type": "code",
   "execution_count": 2,
   "metadata": {},
   "outputs": [],
   "source": [
    "import numpy as np # библиотека Python, которую применяют для математических вычислений Numerical Python extensions, или «Числовые расширения Python»"
   ]
  },
  {
   "cell_type": "code",
   "execution_count": 3,
   "metadata": {},
   "outputs": [
    {
     "name": "stdout",
     "output_type": "stream",
     "text": [
      "Максимальное значение: 9\n",
      "Минимальное значение: 1\n"
     ]
    }
   ],
   "source": [
    "matrix = np.array([[1, 2, 3],\n",
    "                   [4, 5, 6],\n",
    "                   [7, 8, 9]])\n",
    "\n",
    "max_val = float('-inf')  # инициализируем начальное максимальное значение как отрицательную бесконечность\n",
    "min_val = float('inf')   # инициализируем начальное минимальное значение как положительную бесконечность\n",
    "\n",
    "for row in matrix:\n",
    "    for element in row:\n",
    "        if element > max_val:\n",
    "            max_val = element\n",
    "        if element < min_val:\n",
    "            min_val = element\n",
    "\n",
    "print(f\"Максимальное значение: {max_val}\")\n",
    "print(f\"Минимальное значение: {min_val}\")"
   ]
  },
  {
   "cell_type": "code",
   "execution_count": 4,
   "metadata": {},
   "outputs": [
    {
     "name": "stdout",
     "output_type": "stream",
     "text": [
      "Максимальное значение: 9\n",
      "Минимальное значение: 1\n"
     ]
    }
   ],
   "source": [
    "max_val = np.max(matrix)\n",
    "min_val = np.min(matrix)\n",
    "\n",
    "print(f\"Максимальное значение: {max_val}\")\n",
    "print(f\"Минимальное значение: {min_val}\")"
   ]
  },
  {
   "cell_type": "code",
   "execution_count": null,
   "metadata": {},
   "outputs": [],
   "source": []
  }
 ],
 "metadata": {
  "kernelspec": {
   "display_name": "Python 3",
   "language": "python",
   "name": "python3"
  },
  "language_info": {
   "codemirror_mode": {
    "name": "ipython",
    "version": 3
   },
   "file_extension": ".py",
   "mimetype": "text/x-python",
   "name": "python",
   "nbconvert_exporter": "python",
   "pygments_lexer": "ipython3",
   "version": "3.11.2"
  }
 },
 "nbformat": 4,
 "nbformat_minor": 2
}
