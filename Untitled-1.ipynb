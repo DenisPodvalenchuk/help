{
 "cells": [
  {
   "cell_type": "markdown",
   "metadata": {},
   "source": [
    "**Задача: Найти максимальное значение произведения двух элементов среди нечетных строк матрицы.**\n",
    "\n",
    "Для решения этой задачи необходимо сделать:\n",
    "\n",
    "1. Выбрать нечетные строки матрицы. Вывести их на экран: номер строки и сама строка;\n",
    "2. В каждой выбранной строке ищем два наибольших элемента и находим их произведение. Результат выводим на экран;\n",
    "3. Проводим сравнивнение полученного произведение с предыдущим максимальным значением и обновляем его при необходимости. Выводим результат на экран."
   ]
  },
  {
   "cell_type": "code",
   "execution_count": 6,
   "metadata": {},
   "outputs": [],
   "source": [
    "# Блок подгрузки библиотек\n",
    "import numpy as np"
   ]
  },
  {
   "cell_type": "code",
   "execution_count": 10,
   "metadata": {},
   "outputs": [],
   "source": [
    "# Основная функция поиска значения\n",
    "def find_max_product(matrix):\n",
    "    max_product = float('-inf')\n",
    "    \n",
    "    # Находим нечетные строки матрицы\n",
    "    for i in range(0, matrix.shape[0], 2):\n",
    "        row = matrix[i]\n",
    "        \n",
    "        # Выводим строку и её номера\n",
    "        print(f\"Строка {i+1}: {row}\")\n",
    "        \n",
    "        # Находим два наибольших элемента в строке и их произведение\n",
    "        top1, top2 = sorted(row)[-2:]\n",
    "        current_product = top1 * top2\n",
    "        print(f\"Наибольшие элементы: {top1} и {top2}. Их произведение: {current_product}\")\n",
    "        \n",
    "        # Сравниваем значения строк и обновляем максимальное произведение\n",
    "        if current_product > max_product:\n",
    "            max_product = current_product\n",
    "            print(f\"Новое максимальное произведение: {max_product}\\n\")\n",
    "        else:\n",
    "            print(f\"Текущее максимальное произведение остается неизменным: {max_product}\\n\")\n",
    "            \n",
    "    return max_product"
   ]
  },
  {
   "cell_type": "code",
   "execution_count": 11,
   "metadata": {},
   "outputs": [],
   "source": [
    "# Пример использования функции\n",
    "matrix = np.array([[1, 2, 3],\n",
    "                   [4, 5, 6],\n",
    "                   [7, 8, 9],\n",
    "                   [10, 11, 12]])"
   ]
  },
  {
   "cell_type": "code",
   "execution_count": 13,
   "metadata": {},
   "outputs": [
    {
     "name": "stdout",
     "output_type": "stream",
     "text": [
      "Строка 1: [1 2 3]\n",
      "Наибольшие элементы: 2 и 3. Их произведение: 6\n",
      "Новое максимальное произведение: 6\n",
      "\n",
      "Строка 3: [7 8 9]\n",
      "Наибольшие элементы: 8 и 9. Их произведение: 72\n",
      "Новое максимальное произведение: 72\n",
      "\n",
      "\n",
      "Итоговое максимальное произведение: 72\n"
     ]
    }
   ],
   "source": [
    "result = find_max_product(matrix)\n",
    "print(f\"\\nИтоговое максимальное произведение: {result}\")"
   ]
  },
  {
   "cell_type": "code",
   "execution_count": null,
   "metadata": {},
   "outputs": [],
   "source": []
  }
 ],
 "metadata": {
  "kernelspec": {
   "display_name": "Python 3",
   "language": "python",
   "name": "python3"
  },
  "language_info": {
   "codemirror_mode": {
    "name": "ipython",
    "version": 3
   },
   "file_extension": ".py",
   "mimetype": "text/x-python",
   "name": "python",
   "nbconvert_exporter": "python",
   "pygments_lexer": "ipython3",
   "version": "3.11.2"
  }
 },
 "nbformat": 4,
 "nbformat_minor": 2
}
