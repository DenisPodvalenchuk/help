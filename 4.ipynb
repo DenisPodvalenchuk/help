{
 "cells": [
  {
   "cell_type": "code",
   "execution_count": 2,
   "metadata": {},
   "outputs": [
    {
     "name": "stdout",
     "output_type": "stream",
     "text": [
      "максимальное значение элемента среди четных строк матрицы: 6\n"
     ]
    }
   ],
   "source": [
    "matrix = [[1, 2, 3],\n",
    "          [4, 5, 6],\n",
    "          [7, 8, 9]]\n",
    "\n",
    "max_val = float('-inf')  # инициализируем начальное максимальное значение как отрицательную бесконечность\n",
    "\n",
    "for i in range(1, len(matrix), 2):\n",
    "    for element in matrix[i]:\n",
    "        if element > max_val:\n",
    "            max_val = element\n",
    "\n",
    "print(f\"максимальное значение элемента среди четных строк матрицы: {max_val}\")\n"
   ]
  },
  {
   "cell_type": "code",
   "execution_count": null,
   "metadata": {},
   "outputs": [],
   "source": []
  }
 ],
 "metadata": {
  "kernelspec": {
   "display_name": "Python 3",
   "language": "python",
   "name": "python3"
  },
  "language_info": {
   "codemirror_mode": {
    "name": "ipython",
    "version": 3
   },
   "file_extension": ".py",
   "mimetype": "text/x-python",
   "name": "python",
   "nbconvert_exporter": "python",
   "pygments_lexer": "ipython3",
   "version": "3.11.2"
  }
 },
 "nbformat": 4,
 "nbformat_minor": 2
}
