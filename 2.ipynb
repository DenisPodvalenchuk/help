{
 "cells": [
  {
   "cell_type": "code",
   "execution_count": 2,
   "metadata": {},
   "outputs": [
    {
     "name": "stdout",
     "output_type": "stream",
     "text": [
      "Максимальное значение элемента среди нечетных строк матрицы: 9\n"
     ]
    }
   ],
   "source": [
    "matrix = [[1, 2, 3],\n",
    "          [4, 5, 6],\n",
    "          [7, 8, 9]]\n",
    "\n",
    "max_val = float('-inf')  # инициализируем начальное максимальное значение как отрицательную бесконечность\n",
    "\n",
    "# индексация с 0, поэтому нечетные строки имеют четные индексы: 0, 2, 4...\n",
    "for i in range(0, len(matrix), 2):\n",
    "    for element in matrix[i]:\n",
    "        if element > max_val:\n",
    "            max_val = element\n",
    "\n",
    "print(f\"Максимальное значение элемента среди нечетных строк матрицы: {max_val}\")"
   ]
  }
 ],
 "metadata": {
  "kernelspec": {
   "display_name": "Python 3",
   "language": "python",
   "name": "python3"
  },
  "language_info": {
   "codemirror_mode": {
    "name": "ipython",
    "version": 3
   },
   "file_extension": ".py",
   "mimetype": "text/x-python",
   "name": "python",
   "nbconvert_exporter": "python",
   "pygments_lexer": "ipython3",
   "version": "3.11.2"
  }
 },
 "nbformat": 4,
 "nbformat_minor": 2
}
